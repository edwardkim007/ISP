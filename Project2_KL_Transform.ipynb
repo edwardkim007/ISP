{
 "cells": [
  {
   "cell_type": "code",
   "execution_count": 109,
   "metadata": {
    "collapsed": false,
    "deletable": true,
    "editable": true
   },
   "outputs": [
    {
     "data": {
      "text/plain": [
       "array([[1, 2, 3],\n",
       "       [4, 5, 0],\n",
       "       [7, 0, 0]])"
      ]
     },
     "execution_count": 109,
     "metadata": {},
     "output_type": "execute_result"
    }
   ],
   "source": [
    "#-*- coding: utf-8 -*-\n",
    "%matplotlib inline\n",
    "import cv2\n",
    "import numpy as np\n",
    "import matplotlib.pyplot as plt\n",
    "import matplotlib.cm as cm \n",
    "\n",
    "def doDCT_triUL(grid_DCT):\n",
    "    grid_DCT=grid_DCT[:,::-1]\n",
    "    grid_DCT=np.triu(grid_DCT)\n",
    "    grid_DCT=grid_DCT[:,::-1]\n",
    "    return grid_DCT\n",
    "a = np.array([[1,2,3],[4,5,6],[7,8,9]])\n",
    "#np.triu(np.rot90(a))\n",
    "a=doDCT_triUL(a)\n",
    "a\n",
    "\n",
    "# a=a[:,::-1]\n",
    "# a=np.triu(a)\n",
    "# a=a[:,::-1]\n",
    "# a"
   ]
  },
  {
   "cell_type": "code",
   "execution_count": 73,
   "metadata": {
    "collapsed": false,
    "deletable": true,
    "editable": true
   },
   "outputs": [
    {
     "name": "stdout",
     "output_type": "stream",
     "text": [
      "[[3]\n",
      " [2]\n",
      " [8]]\n",
      "(3, 3)\n",
      "(3, 1)\n",
      "[[ 0.34188173  0.         -0.93974299]\n",
      " [ 0.22792115 -0.9701425   0.0829185 ]\n",
      " [ 0.91168461  0.24253563  0.331674  ]]\n",
      "[ 77.   0.   0.]\n"
     ]
    }
   ],
   "source": [
    "def KLT(cov, g):\n",
    "#     val,vec = np.linalg.eig(np.cov(a))\n",
    "    \n",
    "    eigenValues,eigenVectors = np.linalg.eig(cov)\n",
    "\n",
    "    k=8\n",
    "    idx = eigenValues.argsort()[-k:][::-1]\n",
    "#     idx = eigenValues.argsort()[::-1]   \n",
    "    eigenValues = eigenValues[idx]\n",
    "    eigenVectors = eigenVectors[:,idx]\n",
    "\n",
    "    g_prime = np.zeros(cov.shape, dtype=np.float)    \n",
    "    g_prime[:eigenVectors.shape[0],:eigenVectors.shape[1]] = eigenVectors\n",
    "    \n",
    "#     klt = np.dot(eigenVectors,a-a.mean())\n",
    "    klt = np.dot(g_prime,g-g.mean())\n",
    "    return klt,g_prime,eigenValues\n",
    "\n",
    "# a = np.array([g_stacked]).T\n",
    "a = np.array([[3,2,8]]).T\n",
    "b = a.T\n",
    "# b = [4,7,2,5]\n",
    "c = a*b\n",
    "\n",
    "print a\n",
    "b.shape\n",
    "\n",
    "print c.shape\n",
    "# val,vec = np.linalg.eig(np.cov(c))\n",
    "\n",
    "\n",
    "kk,m,val = KLT(a*b, a)\n",
    "print kk.shape\n",
    "print m\n",
    "# print np.dot(kk.T,m).T\n",
    "print val\n",
    "\n",
    "# x = np.vstack([g_stacked,g_stacked.T])\n",
    "# cov = np.cov(g_stacked)\n",
    "# cov\n",
    "\n",
    "\n",
    "\n"
   ]
  },
  {
   "cell_type": "code",
   "execution_count": 130,
   "metadata": {
    "collapsed": true
   },
   "outputs": [],
   "source": [
    "def KLT(cov, g):\n",
    "    \n",
    "    eigenValues,eigenVectors = np.linalg.eig(cov)\n",
    "# 내림차순으로 소팅을 하여 가장 큰 8개를 추출 합니다.\n",
    "    k=8\n",
    "    idx = eigenValues.argsort()[-k:][::-1]\n",
    "#     idx = eigenValues.argsort()[::-1]   \n",
    "    eigenValues = eigenValues[idx]\n",
    "    eigenVectors = eigenVectors[:,idx]\n",
    "\n",
    "# 가장 큰 8개의 EigenVector 외에는 zero column 벡터로 padding 합니다. 매트릭스 연산의 dimension 일치를 위해서입니다.\n",
    "\n",
    "    eigenVectors_trimmed = np.zeros(cov.shape, dtype=np.float)   \n",
    "    eigenVectors_trimmed[:eigenVectors.shape[0],:eigenVectors.shape[1]] = eigenVectors\n",
    "    \n",
    "#     klt = np.dot(eigenVectors,a-a.mean())\n",
    "    g_prime = np.dot(eigenVectors_trimmed,g-g.mean())\n",
    "#     print eigenVectors_trimmed.shape\n",
    "#     return klt,g_prime,eigenValues\n",
    "    return g_prime, eigenVectors_trimmed"
   ]
  },
  {
   "cell_type": "code",
   "execution_count": 131,
   "metadata": {
    "collapsed": false,
    "deletable": true,
    "editable": true,
    "scrolled": false
   },
   "outputs": [
    {
     "name": "stderr",
     "output_type": "stream",
     "text": [
      "C:\\Users\\ATIV5\\Miniconda2\\envs\\py27\\lib\\site-packages\\ipykernel\\__main__.py:14: ComplexWarning: Casting complex values to real discards the imaginary part\n"
     ]
    },
    {
     "data": {
      "image/png": "[encoded data removed]",
      "text/plain": [
       "<matplotlib.figure.Figure at 0xb53bfd0>"
      ]
     },
     "metadata": {},
     "output_type": "display_data"
    }
   ],
   "source": [
    "import scipy.misc\n",
    "windowsize_r = 8\n",
    "windowsize_c = 8\n",
    "\n",
    "window = np.zeros((256, 256))\n",
    "window = np.zeros((256, 256), dtype=np.float)\n",
    "\n",
    "g_stacked = np.zeros((64,1), dtype=np.uint8)\n",
    "g_tilda = np.zeros((64,1), dtype=np.uint8)\n",
    "\n",
    "\n",
    "grid = np.zeros((8,8), dtype=np.uint8)\n",
    "# grid_klt = np.zeros((8,8))\n",
    "\n",
    "klt_transformed = np.zeros((64,1), dtype=np.float)\n",
    "eigenVectors_trimmed = np.zeros((64,64), dtype=np.float) \n",
    "\n",
    "img = cv2.imread('lena-256x256.jpg')\n",
    "gray = cv2.cvtColor(img, cv2.COLOR_BGR2GRAY)\n",
    "\n",
    "for r in range(0,gray.shape[0], windowsize_r):\n",
    "    for c in range(0,gray.shape[0], windowsize_c):\n",
    "        grid = gray[r:r+windowsize_r,c:c+windowsize_c]\n",
    "\n",
    "        g_stacked = grid.flatten()\n",
    "            \n",
    "        a = np.array([g_stacked]).T\n",
    "        b = a.T\n",
    "        klt_transformed, eigenVectors_trimmed = KLT(a*b, a)\n",
    "#         grid_klt=np.reshape(klt_transformed, (8, 8)).T\n",
    "#         window[r:r+windowsize_r,c:c+windowsize_c] = grid_klt\n",
    "\n",
    "# approximated 된 이미지 g_tilda를 얻습니다.\n",
    "        g_tilda = np.dot(eigenVectors_trimmed.T, klt_transformed) + a.mean()\n",
    "\n",
    "# g_tilda 에 64개의 데이터들을 앞에서 8개씩 끊어서 열벡터로 stack 합니다.\n",
    "        window[r:r+windowsize_r,c:c+windowsize_c] = np.reshape(g_tilda, (8,8)).T\n",
    "#         if r == 0 and c == 0:\n",
    "#             print(window[r:r+windowsize_r,c:c+windowsize_c])\n",
    "    \n",
    "        \n",
    "plt.imsave('outfile_klt.png', window[:,:], cmap=plt.cm.gray)\n",
    "plt.imshow(window, cmap = cm.Greys_r)\n",
    "plt.colorbar()\n",
    "\n",
    "plt.show()"
   ]
  },
  {
   "cell_type": "code",
   "execution_count": null,
   "metadata": {
    "collapsed": true
   },
   "outputs": [],
   "source": [
    "def iDCT(grid):\n",
    "    return np.dot(np.dot(D.T, grid), D)\n",
    "\n",
    "# def undoDCT(grid):\n",
    "#     Di=np.linalg.inv(D)\n",
    "#     return np.dot(np.dot(Di, grid), Di.T)\n",
    "\n",
    "\n",
    "# img = mpimg.imread('outfile_dct.bmp')\n",
    "img = cv2.imread('outfile_klt.png')\n",
    "gray = cv2.cvtColor(img, cv2.COLOR_BGR2GRAY)\n",
    "gray.shape\n",
    "\n",
    "# window = np.zeros((256, 256))\n",
    "window = np.zeros((256, 256), dtype=np.uint8)\n",
    "\n",
    "for r in range(0,gray.shape[0], windowsize_r):\n",
    "    for c in range(0,gray.shape[0], windowsize_c):\n",
    "        grid = gray[r:r+windowsize_r,c:c+windowsize_c]\n",
    "        window[r:r+windowsize_r,c:c+windowsize_c] = iDCT(grid)        \n",
    "\n",
    "# scipy.misc.imsave('outfile.bmp', window)\n",
    "# plt.imshow(window, cmap = cm.Greys_r)\n",
    "\n",
    "plt.imsave('outfile_klt_approx.png', window[:,:], cmap=plt.cm.gray)\n",
    "plt.imshow(window, cmap = cm.Greys_r)\n",
    "plt.colorbar()\n",
    "\n",
    "plt.show()\n"
   ]
  },
  {
   "cell_type": "code",
   "execution_count": 98,
   "metadata": {
    "collapsed": false
   },
   "outputs": [
    {
     "name": "stdout",
     "output_type": "stream",
     "text": [
      "(9, 1)\n"
     ]
    },
    {
     "data": {
      "text/plain": [
       "array([[1, 4, 7],\n",
       "       [2, 5, 8],\n",
       "       [3, 6, 9]])"
      ]
     },
     "execution_count": 98,
     "metadata": {},
     "output_type": "execute_result"
    }
   ],
   "source": [
    "a = np.array([[1,2,3,4,5,6,7,8,9]]).T\n",
    "print(a.shape)\n",
    "np.reshape(a, (3, 3)).T"
   ]
  },
  {
   "cell_type": "code",
   "execution_count": 139,
   "metadata": {
    "collapsed": false,
    "deletable": true,
    "editable": true
   },
   "outputs": [
    {
     "data": {
      "text/plain": [
       "array([ 0.017,  0.196,  0.125,  0.566,  0.691,  0.075,  0.904,  0.355,\n",
       "        0.471,  0.094])"
      ]
     },
     "execution_count": 139,
     "metadata": {},
     "output_type": "execute_result"
    }
   ],
   "source": [
    "num = 10\n",
    "x = np.random.random(num) # Observation locations\n",
    "x"
   ]
  },
  {
   "cell_type": "code",
   "execution_count": 179,
   "metadata": {
    "collapsed": false,
    "deletable": true,
    "editable": true
   },
   "outputs": [
    {
     "data": {
      "text/plain": [
       "(30,)"
      ]
     },
     "execution_count": 179,
     "metadata": {},
     "output_type": "execute_result"
    }
   ],
   "source": [
    "# \"Green's functions\" for a second-order polynomial\n",
    "# at our observed locations\n",
    "A = np.hstack([x**i for i in range(3)])\n",
    "A.shape"
   ]
  }
 ],
 "metadata": {
  "kernelspec": {
   "display_name": "Python 2",
   "language": "python",
   "name": "python2"
  },
  "language_info": {
   "codemirror_mode": {
    "name": "ipython",
    "version": 2
   },
   "file_extension": ".py",
   "mimetype": "text/x-python",
   "name": "python",
   "nbconvert_exporter": "python",
   "pygments_lexer": "ipython2",
   "version": "2.7.13"
  }
 },
 "nbformat": 4,
 "nbformat_minor": 2
}
